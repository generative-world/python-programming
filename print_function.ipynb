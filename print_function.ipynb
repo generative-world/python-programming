{
 "cells": [
  {
   "cell_type": "code",
   "execution_count": 1,
   "id": "e9319803-a090-4109-9ed8-8ec4beb2b191",
   "metadata": {},
   "outputs": [
    {
     "name": "stdout",
     "output_type": "stream",
     "text": [
      "Hello Generative AI!!\n"
     ]
    }
   ],
   "source": [
    "print(\"Hello Generative AI!!\")"
   ]
  },
  {
   "cell_type": "code",
   "execution_count": null,
   "id": "6451588e-a94e-4aff-a261-9bc9b8a9dc2b",
   "metadata": {},
   "outputs": [],
   "source": []
  }
 ],
 "metadata": {
  "kernelspec": {
   "display_name": "Python 3 (ipykernel)",
   "language": "python",
   "name": "python3"
  },
  "language_info": {
   "codemirror_mode": {
    "name": "ipython",
    "version": 3
   },
   "file_extension": ".py",
   "mimetype": "text/x-python",
   "name": "python",
   "nbconvert_exporter": "python",
   "pygments_lexer": "ipython3",
   "version": "3.12.7"
  }
 },
 "nbformat": 4,
 "nbformat_minor": 5
}
